{
 "cells": [
  {
   "cell_type": "markdown",
   "id": "7dd697a1",
   "metadata": {},
   "source": [
    "## Machine learning model for a tuckfleet simulator"
   ]
  },
  {
   "cell_type": "code",
   "execution_count": 1,
   "id": "e5bd2b15",
   "metadata": {},
   "outputs": [],
   "source": [
    "import findspark\n",
    "findspark.init()"
   ]
  },
  {
   "cell_type": "code",
   "execution_count": 2,
   "id": "4fc96e20",
   "metadata": {},
   "outputs": [],
   "source": [
    "import os\n",
    "os.environ['PYSPARK_SUBMIT_ARGS'] = '--packages \"org.apache.spark:spark-sql-kafka-0-10_2.12:3.2.1\" pyspark-shell'"
   ]
  },
  {
   "cell_type": "code",
   "execution_count": 3,
   "id": "2fc74b8a",
   "metadata": {},
   "outputs": [
    {
     "name": "stderr",
     "output_type": "stream",
     "text": [
      "WARNING: An illegal reflective access operation has occurred\n",
      "WARNING: Illegal reflective access by org.apache.spark.unsafe.Platform (file:/opt/spark3/jars/spark-unsafe_2.12-3.2.3.jar) to constructor java.nio.DirectByteBuffer(long,int)\n",
      "WARNING: Please consider reporting this to the maintainers of org.apache.spark.unsafe.Platform\n",
      "WARNING: Use --illegal-access=warn to enable warnings of further illegal reflective access operations\n",
      "WARNING: All illegal access operations will be denied in a future release\n"
     ]
    },
    {
     "name": "stdout",
     "output_type": "stream",
     "text": [
      ":: loading settings :: url = jar:file:/opt/spark3/jars/ivy-2.5.0.jar!/org/apache/ivy/core/settings/ivysettings.xml\n"
     ]
    },
    {
     "name": "stderr",
     "output_type": "stream",
     "text": [
      "Ivy Default Cache set to: /home/osbdet/.ivy2/cache\n",
      "The jars for the packages stored in: /home/osbdet/.ivy2/jars\n",
      "org.apache.spark#spark-sql-kafka-0-10_2.12 added as a dependency\n",
      ":: resolving dependencies :: org.apache.spark#spark-submit-parent-4e70a19a-f263-4488-993d-4f695d03a691;1.0\n",
      "\tconfs: [default]\n",
      "\tfound org.apache.spark#spark-sql-kafka-0-10_2.12;3.2.1 in central\n",
      "\tfound org.apache.spark#spark-token-provider-kafka-0-10_2.12;3.2.1 in central\n",
      "\tfound org.apache.kafka#kafka-clients;2.8.0 in central\n",
      "\tfound org.lz4#lz4-java;1.7.1 in central\n",
      "\tfound org.xerial.snappy#snappy-java;1.1.8.4 in central\n",
      "\tfound org.slf4j#slf4j-api;1.7.30 in central\n",
      "\tfound org.apache.hadoop#hadoop-client-runtime;3.3.1 in central\n",
      "\tfound org.spark-project.spark#unused;1.0.0 in central\n",
      "\tfound org.apache.hadoop#hadoop-client-api;3.3.1 in central\n",
      "\tfound org.apache.htrace#htrace-core4;4.1.0-incubating in central\n",
      "\tfound commons-logging#commons-logging;1.1.3 in central\n",
      "\tfound com.google.code.findbugs#jsr305;3.0.0 in central\n",
      "\tfound org.apache.commons#commons-pool2;2.6.2 in central\n",
      ":: resolution report :: resolve 942ms :: artifacts dl 48ms\n",
      "\t:: modules in use:\n",
      "\tcom.google.code.findbugs#jsr305;3.0.0 from central in [default]\n",
      "\tcommons-logging#commons-logging;1.1.3 from central in [default]\n",
      "\torg.apache.commons#commons-pool2;2.6.2 from central in [default]\n",
      "\torg.apache.hadoop#hadoop-client-api;3.3.1 from central in [default]\n",
      "\torg.apache.hadoop#hadoop-client-runtime;3.3.1 from central in [default]\n",
      "\torg.apache.htrace#htrace-core4;4.1.0-incubating from central in [default]\n",
      "\torg.apache.kafka#kafka-clients;2.8.0 from central in [default]\n",
      "\torg.apache.spark#spark-sql-kafka-0-10_2.12;3.2.1 from central in [default]\n",
      "\torg.apache.spark#spark-token-provider-kafka-0-10_2.12;3.2.1 from central in [default]\n",
      "\torg.lz4#lz4-java;1.7.1 from central in [default]\n",
      "\torg.slf4j#slf4j-api;1.7.30 from central in [default]\n",
      "\torg.spark-project.spark#unused;1.0.0 from central in [default]\n",
      "\torg.xerial.snappy#snappy-java;1.1.8.4 from central in [default]\n",
      "\t---------------------------------------------------------------------\n",
      "\t|                  |            modules            ||   artifacts   |\n",
      "\t|       conf       | number| search|dwnlded|evicted|| number|dwnlded|\n",
      "\t---------------------------------------------------------------------\n",
      "\t|      default     |   13  |   0   |   0   |   0   ||   13  |   0   |\n",
      "\t---------------------------------------------------------------------\n",
      ":: retrieving :: org.apache.spark#spark-submit-parent-4e70a19a-f263-4488-993d-4f695d03a691\n",
      "\tconfs: [default]\n",
      "\t0 artifacts copied, 13 already retrieved (0kB/39ms)\n",
      "Setting default log level to \"WARN\".\n",
      "To adjust logging level use sc.setLogLevel(newLevel). For SparkR, use setLogLevel(newLevel).\n"
     ]
    }
   ],
   "source": [
    "from pyspark.sql.session import SparkSession\n",
    "\n",
    "spark = SparkSession.builder\\\n",
    "                    .appName(\"Truck Fleet - Streaming - Structured Streaming\")\\\n",
    "                    .getOrCreate()"
   ]
  },
  {
   "cell_type": "markdown",
   "id": "9adb68c0",
   "metadata": {},
   "source": [
    "## Streaming dataframe"
   ]
  },
  {
   "cell_type": "code",
   "execution_count": 4,
   "id": "50accf63",
   "metadata": {},
   "outputs": [],
   "source": [
    "events_df = spark.readStream\\\n",
    "                 .format(\"kafka\") \\\n",
    "                 .option(\"kafka.bootstrap.servers\", \"localhost:9092\") \\\n",
    "                 .option(\"subscribe\", \"geo_event\") \\\n",
    "                 .option(\"startingOffsets\", \"latest\") \\\n",
    "                 .option(\"kafka.group.id\", \"IE\") \\\n",
    "                 .load()"
   ]
  },
  {
   "cell_type": "code",
   "execution_count": 5,
   "id": "49d36c95",
   "metadata": {},
   "outputs": [
    {
     "data": {
      "text/plain": [
       "DataFrame[eventTime: timestamp, driverName: string, violation: string]"
      ]
     },
     "execution_count": 5,
     "metadata": {},
     "output_type": "execute_result"
    }
   ],
   "source": [
    "from pyspark.sql.functions import split, col\n",
    "from pyspark.sql.types import TimestampType\n",
    "\n",
    "topDriverViolations_df = events_df.select(split(\"value\",'\\|').alias(\"fields\"))\\\n",
    "                                  .withColumn(\"timestamp_str\",col(\"fields\").getItem(0))\\\n",
    "                                  .withColumn(\"eventTime\",col(\"timestamp_str\").cast(TimestampType()))\\\n",
    "                                  .withColumn(\"driverName\",col(\"fields\").getItem(4))\\\n",
    "                                  .withColumn(\"violation\", col(\"fields\").getItem(7))\\\n",
    "                                  .select(\"eventTime\", \"driverName\", \"violation\")\n",
    "topDriverViolations_df"
   ]
  },
  {
   "cell_type": "code",
   "execution_count": 6,
   "id": "ec9cd67f",
   "metadata": {},
   "outputs": [],
   "source": [
    "# from pyspark.sql.functions import when, col\n",
    "\n",
    "# # Assuming 'violation' is the column to check, and 'topDriverViolations' is your DataFrame\n",
    "# # We create a new column 'is_violation' where we mark with 1 if the condition is met (violation != 'Normal'), otherwise 0\n",
    "# topDriverViolations = topDriverViolations_df"
   ]
  },
  {
   "cell_type": "code",
   "execution_count": 7,
   "id": "fa578db1",
   "metadata": {},
   "outputs": [],
   "source": [
    "from pyspark.sql.functions import year, month, dayofmonth, when, col\n",
    "\n",
    "# Define the name pattern correctly\n",
    "namePattern = \".*(Adam|John|Michael).*\"\n",
    "\n",
    "topDriverViolations = topDriverViolations_df \\\n",
    "    .withColumn(\"year\", year(col(\"eventTime\"))) \\\n",
    "    .withColumn(\"month\", month(col(\"eventTime\"))) \\\n",
    "    .withColumn(\"day\", dayofmonth(col(\"eventTime\"))) \\\n",
    "    .withColumn(\n",
    "        \"is_Adam_John_Michael\",\n",
    "        when(col(\"driverName\").rlike(namePattern), 1).otherwise(0)\n",
    "    ) \\\n",
    "    .withColumn(\n",
    "        'is_violation',\n",
    "        when(col('violation') != 'Normal', 1).otherwise(0)\n",
    "    )"
   ]
  },
  {
   "cell_type": "markdown",
   "id": "ca46ff5e",
   "metadata": {},
   "source": [
    "In our business case we only care what's happening right away, therefore 5 minutes it's too late for us and we don't want to consider those events arriving so late:"
   ]
  },
  {
   "cell_type": "code",
   "execution_count": 8,
   "id": "19a8a718",
   "metadata": {},
   "outputs": [],
   "source": [
    "topDriverViolations = topDriverViolations.withWatermark(\"eventTime\", \"10 seconds\")"
   ]
  },
  {
   "cell_type": "markdown",
   "id": "6e948265",
   "metadata": {},
   "source": [
    "## apply assembler for the mllib model\n"
   ]
  },
  {
   "cell_type": "code",
   "execution_count": 9,
   "id": "3443cfe8",
   "metadata": {},
   "outputs": [],
   "source": [
    "from pyspark.ml.feature import VectorAssembler\n",
    "\n",
    "# Define the VectorAssembler transformation\n",
    "assembler = VectorAssembler(\n",
    "    inputCols=[\"year\", \"month\", \"day\", \"is_Adam_John_Michael\"],\n",
    "    outputCol=\"features\"\n",
    ")\n",
    "\n",
    "# Apply the transformation to your streaming DataFrame\n",
    "topDriverViolationsWithFeatures = assembler.transform(topDriverViolations)\\\n",
    "                                    .select(\"features\", \"eventTime\", \"year\", \"month\", \"day\")\n"
   ]
  },
  {
   "cell_type": "markdown",
   "id": "c705696c",
   "metadata": {},
   "source": [
    "# Make predictions"
   ]
  },
  {
   "cell_type": "code",
   "execution_count": 10,
   "id": "c8c374a2",
   "metadata": {},
   "outputs": [
    {
     "name": "stderr",
     "output_type": "stream",
     "text": [
      "[Stage 2:>                                                          (0 + 1) / 1]\r"
     ]
    },
    {
     "name": "stdout",
     "output_type": "stream",
     "text": [
      "Model successfully loaded.\n"
     ]
    },
    {
     "name": "stderr",
     "output_type": "stream",
     "text": [
      "\r",
      "                                                                                \r"
     ]
    }
   ],
   "source": [
    "\n",
    "from pyspark.ml.classification import LogisticRegressionModel\n",
    "\n",
    "\n",
    "modelPath = \"hdfs://localhost:9000/datalake/raw/truckfleet/logistic_regression_model\"\n",
    "# Load the model back from the specified HDFS path\n",
    "loadedModel = LogisticRegressionModel.load(modelPath)\n",
    "\n",
    "print(\"Model successfully loaded.\")\n"
   ]
  },
  {
   "cell_type": "code",
   "execution_count": 11,
   "id": "0ad62181",
   "metadata": {},
   "outputs": [],
   "source": [
    "# Apply the loaded model to make predictions\n",
    "predictions_df = loadedModel.transform(topDriverViolationsWithFeatures)\n",
    "\n",
    "# Replace the 'prediction' column with \"violation\" or \"no violation\" based on its value\n",
    "predictions_df = predictions_df.withColumn(\n",
    "    'prediction', \n",
    "    when(col('prediction') == 1, 'violation').otherwise('no violation')\n",
    ")"
   ]
  },
  {
   "cell_type": "code",
   "execution_count": 12,
   "id": "1a4df428",
   "metadata": {},
   "outputs": [
    {
     "name": "stdout",
     "output_type": "stream",
     "text": [
      "-------------------------------------------\n",
      "Batch: 0\n",
      "-------------------------------------------\n",
      "+--------+-----------+----------+\n",
      "|features|probability|prediction|\n",
      "+--------+-----------+----------+\n",
      "+--------+-----------+----------+\n",
      "\n"
     ]
    },
    {
     "name": "stderr",
     "output_type": "stream",
     "text": [
      "\r",
      "[Stage 4:>                                                          (0 + 1) / 1]\r"
     ]
    },
    {
     "name": "stdout",
     "output_type": "stream",
     "text": [
      "-------------------------------------------\n",
      "Batch: 1\n",
      "-------------------------------------------\n",
      "+--------------------+--------------------+------------+\n",
      "|            features|         probability|  prediction|\n",
      "+--------------------+--------------------+------------+\n",
      "|[2024.0,3.0,13.0,...|[0.93987354252975...|no violation|\n",
      "+--------------------+--------------------+------------+\n",
      "\n"
     ]
    },
    {
     "name": "stderr",
     "output_type": "stream",
     "text": [
      "\r",
      "                                                                                \r"
     ]
    },
    {
     "name": "stdout",
     "output_type": "stream",
     "text": [
      "-------------------------------------------\n",
      "Batch: 2\n",
      "-------------------------------------------\n",
      "+--------------------+--------------------+------------+\n",
      "|            features|         probability|  prediction|\n",
      "+--------------------+--------------------+------------+\n",
      "|[2024.0,3.0,13.0,...|[0.93987354252975...|no violation|\n",
      "|[2024.0,3.0,13.0,...|[0.93987354252975...|no violation|\n",
      "|[2024.0,3.0,13.0,...|[0.93987354252975...|no violation|\n",
      "|[2024.0,3.0,13.0,...|[0.93987354252975...|no violation|\n",
      "|[2024.0,3.0,13.0,...|[0.27224640359727...|   violation|\n",
      "|[2024.0,3.0,13.0,...|[0.93987354252975...|no violation|\n",
      "|[2024.0,3.0,13.0,...|[0.93987354252975...|no violation|\n",
      "|[2024.0,3.0,13.0,...|[0.93987354252975...|no violation|\n",
      "|[2024.0,3.0,13.0,...|[0.27224640359727...|   violation|\n",
      "|[2024.0,3.0,13.0,...|[0.93987354252975...|no violation|\n",
      "|[2024.0,3.0,13.0,...|[0.93987354252975...|no violation|\n",
      "|[2024.0,3.0,13.0,...|[0.93987354252975...|no violation|\n",
      "|[2024.0,3.0,13.0,...|[0.93987354252975...|no violation|\n",
      "|[2024.0,3.0,13.0,...|[0.93987354252975...|no violation|\n",
      "|[2024.0,3.0,13.0,...|[0.93987354252975...|no violation|\n",
      "|[2024.0,3.0,13.0,...|[0.93987354252975...|no violation|\n",
      "|[2024.0,3.0,13.0,...|[0.93987354252975...|no violation|\n",
      "|[2024.0,3.0,13.0,...|[0.93987354252975...|no violation|\n",
      "|[2024.0,3.0,13.0,...|[0.93987354252975...|no violation|\n",
      "|[2024.0,3.0,13.0,...|[0.93987354252975...|no violation|\n",
      "+--------------------+--------------------+------------+\n",
      "only showing top 20 rows\n",
      "\n",
      "-------------------------------------------\n",
      "Batch: 3\n",
      "-------------------------------------------\n",
      "+--------------------+--------------------+------------+\n",
      "|            features|         probability|  prediction|\n",
      "+--------------------+--------------------+------------+\n",
      "|[2024.0,3.0,13.0,...|[0.27224640359727...|   violation|\n",
      "|[2024.0,3.0,13.0,...|[0.93987354252975...|no violation|\n",
      "|[2024.0,3.0,13.0,...|[0.93987354252975...|no violation|\n",
      "|[2024.0,3.0,13.0,...|[0.93987354252975...|no violation|\n",
      "|[2024.0,3.0,13.0,...|[0.93987354252975...|no violation|\n",
      "|[2024.0,3.0,13.0,...|[0.93987354252975...|no violation|\n",
      "|[2024.0,3.0,13.0,...|[0.93987354252975...|no violation|\n",
      "|[2024.0,3.0,13.0,...|[0.93987354252975...|no violation|\n",
      "|[2024.0,3.0,13.0,...|[0.93987354252975...|no violation|\n",
      "+--------------------+--------------------+------------+\n",
      "\n"
     ]
    },
    {
     "name": "stderr",
     "output_type": "stream",
     "text": [
      "\r",
      "[Stage 7:>                                                          (0 + 1) / 1]\r",
      "\r",
      "                                                                                \r"
     ]
    },
    {
     "name": "stdout",
     "output_type": "stream",
     "text": [
      "-------------------------------------------\n",
      "Batch: 4\n",
      "-------------------------------------------\n",
      "+--------------------+--------------------+------------+\n",
      "|            features|         probability|  prediction|\n",
      "+--------------------+--------------------+------------+\n",
      "|[2024.0,3.0,13.0,...|[0.93987354252975...|no violation|\n",
      "|[2024.0,3.0,13.0,...|[0.93987354252975...|no violation|\n",
      "|[2024.0,3.0,13.0,...|[0.93987354252975...|no violation|\n",
      "|[2024.0,3.0,13.0,...|[0.93987354252975...|no violation|\n",
      "|[2024.0,3.0,13.0,...|[0.93987354252975...|no violation|\n",
      "|[2024.0,3.0,13.0,...|[0.93987354252975...|no violation|\n",
      "|[2024.0,3.0,13.0,...|[0.93987354252975...|no violation|\n",
      "|[2024.0,3.0,13.0,...|[0.93987354252975...|no violation|\n",
      "|[2024.0,3.0,13.0,...|[0.93987354252975...|no violation|\n",
      "|[2024.0,3.0,13.0,...|[0.27224640359727...|   violation|\n",
      "|[2024.0,3.0,13.0,...|[0.93987354252975...|no violation|\n",
      "|[2024.0,3.0,13.0,...|[0.93987354252975...|no violation|\n",
      "|[2024.0,3.0,13.0,...|[0.93987354252975...|no violation|\n",
      "|[2024.0,3.0,13.0,...|[0.27224640359727...|   violation|\n",
      "|[2024.0,3.0,13.0,...|[0.93987354252975...|no violation|\n",
      "|[2024.0,3.0,13.0,...|[0.93987354252975...|no violation|\n",
      "|[2024.0,3.0,13.0,...|[0.93987354252975...|no violation|\n",
      "|[2024.0,3.0,13.0,...|[0.93987354252975...|no violation|\n",
      "|[2024.0,3.0,13.0,...|[0.93987354252975...|no violation|\n",
      "|[2024.0,3.0,13.0,...|[0.93987354252975...|no violation|\n",
      "+--------------------+--------------------+------------+\n",
      "only showing top 20 rows\n",
      "\n"
     ]
    },
    {
     "name": "stderr",
     "output_type": "stream",
     "text": [
      "\r",
      "[Stage 8:>                                                          (0 + 1) / 1]\r",
      "\r",
      "                                                                                \r"
     ]
    },
    {
     "name": "stdout",
     "output_type": "stream",
     "text": [
      "-------------------------------------------\n",
      "Batch: 5\n",
      "-------------------------------------------\n",
      "+--------------------+--------------------+------------+\n",
      "|            features|         probability|  prediction|\n",
      "+--------------------+--------------------+------------+\n",
      "|[2024.0,3.0,13.0,...|[0.93987354252975...|no violation|\n",
      "|[2024.0,3.0,13.0,...|[0.93987354252975...|no violation|\n",
      "|[2024.0,3.0,13.0,...|[0.93987354252975...|no violation|\n",
      "|[2024.0,3.0,13.0,...|[0.93987354252975...|no violation|\n",
      "|[2024.0,3.0,13.0,...|[0.93987354252975...|no violation|\n",
      "|[2024.0,3.0,13.0,...|[0.93987354252975...|no violation|\n",
      "|[2024.0,3.0,13.0,...|[0.93987354252975...|no violation|\n",
      "|[2024.0,3.0,13.0,...|[0.93987354252975...|no violation|\n",
      "|[2024.0,3.0,13.0,...|[0.27224640359727...|   violation|\n",
      "+--------------------+--------------------+------------+\n",
      "\n",
      "-------------------------------------------\n",
      "Batch: 6\n",
      "-------------------------------------------\n",
      "+--------------------+--------------------+------------+\n",
      "|            features|         probability|  prediction|\n",
      "+--------------------+--------------------+------------+\n",
      "|[2024.0,3.0,13.0,...|[0.93987354252975...|no violation|\n",
      "|[2024.0,3.0,13.0,...|[0.27224640359727...|   violation|\n",
      "|[2024.0,3.0,13.0,...|[0.93987354252975...|no violation|\n",
      "|[2024.0,3.0,13.0,...|[0.93987354252975...|no violation|\n",
      "|[2024.0,3.0,13.0,...|[0.93987354252975...|no violation|\n",
      "|[2024.0,3.0,13.0,...|[0.93987354252975...|no violation|\n",
      "|[2024.0,3.0,13.0,...|[0.93987354252975...|no violation|\n",
      "|[2024.0,3.0,13.0,...|[0.93987354252975...|no violation|\n",
      "|[2024.0,3.0,13.0,...|[0.93987354252975...|no violation|\n",
      "|[2024.0,3.0,13.0,...|[0.93987354252975...|no violation|\n",
      "|[2024.0,3.0,13.0,...|[0.93987354252975...|no violation|\n",
      "|[2024.0,3.0,13.0,...|[0.93987354252975...|no violation|\n",
      "|[2024.0,3.0,13.0,...|[0.93987354252975...|no violation|\n",
      "|[2024.0,3.0,13.0,...|[0.93987354252975...|no violation|\n",
      "|[2024.0,3.0,13.0,...|[0.93987354252975...|no violation|\n",
      "|[2024.0,3.0,13.0,...|[0.93987354252975...|no violation|\n",
      "|[2024.0,3.0,13.0,...|[0.93987354252975...|no violation|\n",
      "|[2024.0,3.0,13.0,...|[0.93987354252975...|no violation|\n",
      "|[2024.0,3.0,13.0,...|[0.93987354252975...|no violation|\n",
      "|[2024.0,3.0,13.0,...|[0.93987354252975...|no violation|\n",
      "+--------------------+--------------------+------------+\n",
      "only showing top 20 rows\n",
      "\n"
     ]
    },
    {
     "name": "stderr",
     "output_type": "stream",
     "text": [
      "\r",
      "[Stage 10:>                                                         (0 + 1) / 1]\r",
      "\r",
      "                                                                                \r"
     ]
    },
    {
     "name": "stdout",
     "output_type": "stream",
     "text": [
      "-------------------------------------------\n",
      "Batch: 7\n",
      "-------------------------------------------\n",
      "+--------------------+--------------------+------------+\n",
      "|            features|         probability|  prediction|\n",
      "+--------------------+--------------------+------------+\n",
      "|[2024.0,3.0,13.0,...|[0.93987354252975...|no violation|\n",
      "|[2024.0,3.0,13.0,...|[0.93987354252975...|no violation|\n",
      "+--------------------+--------------------+------------+\n",
      "\n"
     ]
    },
    {
     "name": "stderr",
     "output_type": "stream",
     "text": [
      "\r",
      "[Stage 11:>                                                         (0 + 1) / 1]\r",
      "\r",
      "                                                                                \r"
     ]
    },
    {
     "name": "stdout",
     "output_type": "stream",
     "text": [
      "-------------------------------------------\n",
      "Batch: 8\n",
      "-------------------------------------------\n",
      "+--------------------+--------------------+------------+\n",
      "|            features|         probability|  prediction|\n",
      "+--------------------+--------------------+------------+\n",
      "|[2024.0,3.0,13.0,...|[0.27224640359727...|   violation|\n",
      "|[2024.0,3.0,13.0,...|[0.93987354252975...|no violation|\n",
      "|[2024.0,3.0,13.0,...|[0.93987354252975...|no violation|\n",
      "|[2024.0,3.0,13.0,...|[0.93987354252975...|no violation|\n",
      "|[2024.0,3.0,13.0,...|[0.93987354252975...|no violation|\n",
      "|[2024.0,3.0,13.0,...|[0.93987354252975...|no violation|\n",
      "|[2024.0,3.0,13.0,...|[0.93987354252975...|no violation|\n",
      "|[2024.0,3.0,13.0,...|[0.93987354252975...|no violation|\n",
      "|[2024.0,3.0,13.0,...|[0.93987354252975...|no violation|\n",
      "|[2024.0,3.0,13.0,...|[0.93987354252975...|no violation|\n",
      "|[2024.0,3.0,13.0,...|[0.93987354252975...|no violation|\n",
      "|[2024.0,3.0,13.0,...|[0.93987354252975...|no violation|\n",
      "|[2024.0,3.0,13.0,...|[0.93987354252975...|no violation|\n",
      "|[2024.0,3.0,13.0,...|[0.93987354252975...|no violation|\n",
      "|[2024.0,3.0,13.0,...|[0.93987354252975...|no violation|\n",
      "|[2024.0,3.0,13.0,...|[0.93987354252975...|no violation|\n",
      "|[2024.0,3.0,13.0,...|[0.93987354252975...|no violation|\n",
      "|[2024.0,3.0,13.0,...|[0.93987354252975...|no violation|\n",
      "|[2024.0,3.0,13.0,...|[0.93987354252975...|no violation|\n",
      "|[2024.0,3.0,13.0,...|[0.27224640359727...|   violation|\n",
      "+--------------------+--------------------+------------+\n",
      "only showing top 20 rows\n",
      "\n",
      "-------------------------------------------\n",
      "Batch: 9\n",
      "-------------------------------------------\n",
      "+--------------------+--------------------+------------+\n",
      "|            features|         probability|  prediction|\n",
      "+--------------------+--------------------+------------+\n",
      "|[2024.0,3.0,13.0,...|[0.93987354252975...|no violation|\n",
      "|[2024.0,3.0,13.0,...|[0.93987354252975...|no violation|\n",
      "|[2024.0,3.0,13.0,...|[0.93987354252975...|no violation|\n",
      "|[2024.0,3.0,13.0,...|[0.93987354252975...|no violation|\n",
      "|[2024.0,3.0,13.0,...|[0.93987354252975...|no violation|\n",
      "|[2024.0,3.0,13.0,...|[0.93987354252975...|no violation|\n",
      "|[2024.0,3.0,13.0,...|[0.93987354252975...|no violation|\n",
      "|[2024.0,3.0,13.0,...|[0.93987354252975...|no violation|\n",
      "|[2024.0,3.0,13.0,...|[0.93987354252975...|no violation|\n",
      "|[2024.0,3.0,13.0,...|[0.93987354252975...|no violation|\n",
      "|[2024.0,3.0,13.0,...|[0.27224640359727...|   violation|\n",
      "|[2024.0,3.0,13.0,...|[0.93987354252975...|no violation|\n",
      "|[2024.0,3.0,13.0,...|[0.93987354252975...|no violation|\n",
      "|[2024.0,3.0,13.0,...|[0.93987354252975...|no violation|\n",
      "|[2024.0,3.0,13.0,...|[0.93987354252975...|no violation|\n",
      "|[2024.0,3.0,13.0,...|[0.93987354252975...|no violation|\n",
      "+--------------------+--------------------+------------+\n",
      "\n"
     ]
    },
    {
     "name": "stderr",
     "output_type": "stream",
     "text": [
      "\r",
      "[Stage 13:>                                                         (0 + 1) / 1]\r",
      "\r",
      "                                                                                \r"
     ]
    },
    {
     "name": "stdout",
     "output_type": "stream",
     "text": [
      "-------------------------------------------\n",
      "Batch: 10\n",
      "-------------------------------------------\n",
      "+--------------------+--------------------+------------+\n",
      "|            features|         probability|  prediction|\n",
      "+--------------------+--------------------+------------+\n",
      "|[2024.0,3.0,13.0,...|[0.93987354252975...|no violation|\n",
      "|[2024.0,3.0,13.0,...|[0.93987354252975...|no violation|\n",
      "|[2024.0,3.0,13.0,...|[0.27224640359727...|   violation|\n",
      "|[2024.0,3.0,13.0,...|[0.93987354252975...|no violation|\n",
      "|[2024.0,3.0,13.0,...|[0.93987354252975...|no violation|\n",
      "|[2024.0,3.0,13.0,...|[0.93987354252975...|no violation|\n",
      "|[2024.0,3.0,13.0,...|[0.93987354252975...|no violation|\n",
      "|[2024.0,3.0,13.0,...|[0.93987354252975...|no violation|\n",
      "|[2024.0,3.0,13.0,...|[0.93987354252975...|no violation|\n",
      "|[2024.0,3.0,13.0,...|[0.93987354252975...|no violation|\n",
      "|[2024.0,3.0,13.0,...|[0.93987354252975...|no violation|\n",
      "|[2024.0,3.0,13.0,...|[0.93987354252975...|no violation|\n",
      "|[2024.0,3.0,13.0,...|[0.93987354252975...|no violation|\n",
      "|[2024.0,3.0,13.0,...|[0.93987354252975...|no violation|\n",
      "|[2024.0,3.0,13.0,...|[0.93987354252975...|no violation|\n",
      "|[2024.0,3.0,13.0,...|[0.93987354252975...|no violation|\n",
      "|[2024.0,3.0,13.0,...|[0.93987354252975...|no violation|\n",
      "|[2024.0,3.0,13.0,...|[0.93987354252975...|no violation|\n",
      "|[2024.0,3.0,13.0,...|[0.27224640359727...|   violation|\n",
      "|[2024.0,3.0,13.0,...|[0.93987354252975...|no violation|\n",
      "+--------------------+--------------------+------------+\n",
      "only showing top 20 rows\n",
      "\n"
     ]
    },
    {
     "name": "stderr",
     "output_type": "stream",
     "text": [
      "\r",
      "[Stage 14:>                                                         (0 + 1) / 1]\r",
      "\r",
      "                                                                                \r"
     ]
    },
    {
     "name": "stdout",
     "output_type": "stream",
     "text": [
      "-------------------------------------------\n",
      "Batch: 11\n",
      "-------------------------------------------\n",
      "+--------------------+--------------------+------------+\n",
      "|            features|         probability|  prediction|\n",
      "+--------------------+--------------------+------------+\n",
      "|[2024.0,3.0,13.0,...|[0.27224640359727...|   violation|\n",
      "|[2024.0,3.0,13.0,...|[0.93987354252975...|no violation|\n",
      "|[2024.0,3.0,13.0,...|[0.93987354252975...|no violation|\n",
      "|[2024.0,3.0,13.0,...|[0.93987354252975...|no violation|\n",
      "|[2024.0,3.0,13.0,...|[0.93987354252975...|no violation|\n",
      "|[2024.0,3.0,13.0,...|[0.93987354252975...|no violation|\n",
      "|[2024.0,3.0,13.0,...|[0.93987354252975...|no violation|\n",
      "|[2024.0,3.0,13.0,...|[0.93987354252975...|no violation|\n",
      "|[2024.0,3.0,13.0,...|[0.93987354252975...|no violation|\n",
      "|[2024.0,3.0,13.0,...|[0.27224640359727...|   violation|\n",
      "+--------------------+--------------------+------------+\n",
      "\n",
      "-------------------------------------------\n",
      "Batch: 12\n",
      "-------------------------------------------\n",
      "+--------------------+--------------------+------------+\n",
      "|            features|         probability|  prediction|\n",
      "+--------------------+--------------------+------------+\n",
      "|[2024.0,3.0,13.0,...|[0.93987354252975...|no violation|\n",
      "|[2024.0,3.0,13.0,...|[0.93987354252975...|no violation|\n",
      "|[2024.0,3.0,13.0,...|[0.93987354252975...|no violation|\n",
      "|[2024.0,3.0,13.0,...|[0.93987354252975...|no violation|\n",
      "|[2024.0,3.0,13.0,...|[0.93987354252975...|no violation|\n",
      "|[2024.0,3.0,13.0,...|[0.93987354252975...|no violation|\n",
      "|[2024.0,3.0,13.0,...|[0.93987354252975...|no violation|\n",
      "|[2024.0,3.0,13.0,...|[0.93987354252975...|no violation|\n",
      "|[2024.0,3.0,13.0,...|[0.93987354252975...|no violation|\n",
      "|[2024.0,3.0,13.0,...|[0.93987354252975...|no violation|\n",
      "|[2024.0,3.0,13.0,...|[0.27224640359727...|   violation|\n",
      "|[2024.0,3.0,13.0,...|[0.93987354252975...|no violation|\n",
      "|[2024.0,3.0,13.0,...|[0.93987354252975...|no violation|\n",
      "|[2024.0,3.0,13.0,...|[0.93987354252975...|no violation|\n",
      "|[2024.0,3.0,13.0,...|[0.93987354252975...|no violation|\n",
      "|[2024.0,3.0,13.0,...|[0.93987354252975...|no violation|\n",
      "|[2024.0,3.0,13.0,...|[0.93987354252975...|no violation|\n",
      "|[2024.0,3.0,13.0,...|[0.93987354252975...|no violation|\n",
      "|[2024.0,3.0,13.0,...|[0.93987354252975...|no violation|\n",
      "|[2024.0,3.0,13.0,...|[0.93987354252975...|no violation|\n",
      "+--------------------+--------------------+------------+\n",
      "only showing top 20 rows\n",
      "\n"
     ]
    },
    {
     "name": "stderr",
     "output_type": "stream",
     "text": [
      "\r",
      "[Stage 16:>                                                         (0 + 1) / 1]\r",
      "\r",
      "                                                                                \r"
     ]
    },
    {
     "name": "stdout",
     "output_type": "stream",
     "text": [
      "-------------------------------------------\n",
      "Batch: 13\n",
      "-------------------------------------------\n",
      "+--------------------+--------------------+------------+\n",
      "|            features|         probability|  prediction|\n",
      "+--------------------+--------------------+------------+\n",
      "|[2024.0,3.0,13.0,...|[0.93987354252975...|no violation|\n",
      "+--------------------+--------------------+------------+\n",
      "\n",
      "-------------------------------------------\n",
      "Batch: 14\n",
      "-------------------------------------------\n",
      "+--------------------+--------------------+------------+\n",
      "|            features|         probability|  prediction|\n",
      "+--------------------+--------------------+------------+\n",
      "|[2024.0,3.0,13.0,...|[0.93987354252975...|no violation|\n",
      "|[2024.0,3.0,13.0,...|[0.93987354252975...|no violation|\n",
      "|[2024.0,3.0,13.0,...|[0.93987354252975...|no violation|\n",
      "|[2024.0,3.0,13.0,...|[0.93987354252975...|no violation|\n",
      "|[2024.0,3.0,13.0,...|[0.93987354252975...|no violation|\n",
      "|[2024.0,3.0,13.0,...|[0.93987354252975...|no violation|\n",
      "|[2024.0,3.0,13.0,...|[0.93987354252975...|no violation|\n",
      "|[2024.0,3.0,13.0,...|[0.27224640359727...|   violation|\n",
      "|[2024.0,3.0,13.0,...|[0.93987354252975...|no violation|\n",
      "|[2024.0,3.0,13.0,...|[0.93987354252975...|no violation|\n",
      "|[2024.0,3.0,13.0,...|[0.93987354252975...|no violation|\n",
      "|[2024.0,3.0,13.0,...|[0.93987354252975...|no violation|\n",
      "|[2024.0,3.0,13.0,...|[0.93987354252975...|no violation|\n",
      "|[2024.0,3.0,13.0,...|[0.93987354252975...|no violation|\n",
      "|[2024.0,3.0,13.0,...|[0.93987354252975...|no violation|\n",
      "|[2024.0,3.0,13.0,...|[0.93987354252975...|no violation|\n",
      "|[2024.0,3.0,13.0,...|[0.93987354252975...|no violation|\n",
      "|[2024.0,3.0,13.0,...|[0.93987354252975...|no violation|\n",
      "|[2024.0,3.0,13.0,...|[0.93987354252975...|no violation|\n",
      "|[2024.0,3.0,13.0,...|[0.93987354252975...|no violation|\n",
      "+--------------------+--------------------+------------+\n",
      "only showing top 20 rows\n",
      "\n",
      "-------------------------------------------\n",
      "Batch: 15\n",
      "-------------------------------------------\n",
      "+--------------------+--------------------+------------+\n",
      "|            features|         probability|  prediction|\n",
      "+--------------------+--------------------+------------+\n",
      "|[2024.0,3.0,13.0,...|[0.93987354252975...|no violation|\n",
      "|[2024.0,3.0,13.0,...|[0.93987354252975...|no violation|\n",
      "|[2024.0,3.0,13.0,...|[0.93987354252975...|no violation|\n",
      "|[2024.0,3.0,13.0,...|[0.93987354252975...|no violation|\n",
      "|[2024.0,3.0,13.0,...|[0.93987354252975...|no violation|\n",
      "|[2024.0,3.0,13.0,...|[0.93987354252975...|no violation|\n",
      "|[2024.0,3.0,13.0,...|[0.93987354252975...|no violation|\n",
      "|[2024.0,3.0,13.0,...|[0.93987354252975...|no violation|\n",
      "|[2024.0,3.0,13.0,...|[0.93987354252975...|no violation|\n",
      "|[2024.0,3.0,13.0,...|[0.93987354252975...|no violation|\n",
      "|[2024.0,3.0,13.0,...|[0.27224640359727...|   violation|\n",
      "|[2024.0,3.0,13.0,...|[0.93987354252975...|no violation|\n",
      "|[2024.0,3.0,13.0,...|[0.93987354252975...|no violation|\n",
      "|[2024.0,3.0,13.0,...|[0.93987354252975...|no violation|\n",
      "|[2024.0,3.0,13.0,...|[0.93987354252975...|no violation|\n",
      "|[2024.0,3.0,13.0,...|[0.27224640359727...|   violation|\n",
      "|[2024.0,3.0,13.0,...|[0.93987354252975...|no violation|\n",
      "|[2024.0,3.0,13.0,...|[0.93987354252975...|no violation|\n",
      "|[2024.0,3.0,13.0,...|[0.93987354252975...|no violation|\n",
      "|[2024.0,3.0,13.0,...|[0.93987354252975...|no violation|\n",
      "+--------------------+--------------------+------------+\n",
      "only showing top 20 rows\n",
      "\n",
      "-------------------------------------------\n",
      "Batch: 16\n",
      "-------------------------------------------\n",
      "+--------------------+--------------------+------------+\n",
      "|            features|         probability|  prediction|\n",
      "+--------------------+--------------------+------------+\n",
      "|[2024.0,3.0,13.0,...|[0.93987354252975...|no violation|\n",
      "|[2024.0,3.0,13.0,...|[0.93987354252975...|no violation|\n",
      "|[2024.0,3.0,13.0,...|[0.93987354252975...|no violation|\n",
      "|[2024.0,3.0,13.0,...|[0.27224640359727...|   violation|\n",
      "|[2024.0,3.0,13.0,...|[0.93987354252975...|no violation|\n",
      "|[2024.0,3.0,13.0,...|[0.93987354252975...|no violation|\n",
      "|[2024.0,3.0,13.0,...|[0.93987354252975...|no violation|\n",
      "|[2024.0,3.0,13.0,...|[0.93987354252975...|no violation|\n",
      "|[2024.0,3.0,13.0,...|[0.27224640359727...|   violation|\n",
      "|[2024.0,3.0,13.0,...|[0.93987354252975...|no violation|\n",
      "|[2024.0,3.0,13.0,...|[0.93987354252975...|no violation|\n",
      "|[2024.0,3.0,13.0,...|[0.93987354252975...|no violation|\n",
      "|[2024.0,3.0,13.0,...|[0.93987354252975...|no violation|\n",
      "|[2024.0,3.0,13.0,...|[0.93987354252975...|no violation|\n",
      "|[2024.0,3.0,13.0,...|[0.93987354252975...|no violation|\n",
      "|[2024.0,3.0,13.0,...|[0.93987354252975...|no violation|\n",
      "|[2024.0,3.0,13.0,...|[0.93987354252975...|no violation|\n",
      "|[2024.0,3.0,13.0,...|[0.93987354252975...|no violation|\n",
      "|[2024.0,3.0,13.0,...|[0.93987354252975...|no violation|\n",
      "|[2024.0,3.0,13.0,...|[0.93987354252975...|no violation|\n",
      "+--------------------+--------------------+------------+\n",
      "only showing top 20 rows\n",
      "\n"
     ]
    },
    {
     "name": "stderr",
     "output_type": "stream",
     "text": [
      "\r",
      "[Stage 20:>                                                         (0 + 1) / 1]\r",
      "\r",
      "                                                                                \r"
     ]
    },
    {
     "name": "stdout",
     "output_type": "stream",
     "text": [
      "-------------------------------------------\n",
      "Batch: 17\n",
      "-------------------------------------------\n",
      "+--------------------+--------------------+------------+\n",
      "|            features|         probability|  prediction|\n",
      "+--------------------+--------------------+------------+\n",
      "|[2024.0,3.0,13.0,...|[0.93987354252975...|no violation|\n",
      "+--------------------+--------------------+------------+\n",
      "\n"
     ]
    },
    {
     "name": "stderr",
     "output_type": "stream",
     "text": [
      "\r",
      "[Stage 21:>                                                         (0 + 1) / 1]\r",
      "\r",
      "                                                                                \r"
     ]
    },
    {
     "name": "stdout",
     "output_type": "stream",
     "text": [
      "-------------------------------------------\n",
      "Batch: 18\n",
      "-------------------------------------------\n",
      "+--------------------+--------------------+------------+\n",
      "|            features|         probability|  prediction|\n",
      "+--------------------+--------------------+------------+\n",
      "|[2024.0,3.0,13.0,...|[0.93987354252975...|no violation|\n",
      "|[2024.0,3.0,13.0,...|[0.93987354252975...|no violation|\n",
      "|[2024.0,3.0,13.0,...|[0.93987354252975...|no violation|\n",
      "|[2024.0,3.0,13.0,...|[0.93987354252975...|no violation|\n",
      "|[2024.0,3.0,13.0,...|[0.93987354252975...|no violation|\n",
      "|[2024.0,3.0,13.0,...|[0.93987354252975...|no violation|\n",
      "|[2024.0,3.0,13.0,...|[0.27224640359727...|   violation|\n",
      "|[2024.0,3.0,13.0,...|[0.27224640359727...|   violation|\n",
      "|[2024.0,3.0,13.0,...|[0.93987354252975...|no violation|\n",
      "|[2024.0,3.0,13.0,...|[0.93987354252975...|no violation|\n",
      "|[2024.0,3.0,13.0,...|[0.93987354252975...|no violation|\n",
      "|[2024.0,3.0,13.0,...|[0.93987354252975...|no violation|\n",
      "|[2024.0,3.0,13.0,...|[0.93987354252975...|no violation|\n",
      "|[2024.0,3.0,13.0,...|[0.93987354252975...|no violation|\n",
      "|[2024.0,3.0,13.0,...|[0.93987354252975...|no violation|\n",
      "|[2024.0,3.0,13.0,...|[0.93987354252975...|no violation|\n",
      "|[2024.0,3.0,13.0,...|[0.93987354252975...|no violation|\n",
      "|[2024.0,3.0,13.0,...|[0.93987354252975...|no violation|\n",
      "|[2024.0,3.0,13.0,...|[0.93987354252975...|no violation|\n",
      "|[2024.0,3.0,13.0,...|[0.93987354252975...|no violation|\n",
      "+--------------------+--------------------+------------+\n",
      "only showing top 20 rows\n",
      "\n"
     ]
    },
    {
     "name": "stderr",
     "output_type": "stream",
     "text": [
      "\r",
      "[Stage 22:>                                                         (0 + 1) / 1]\r",
      "\r",
      "                                                                                \r"
     ]
    },
    {
     "name": "stdout",
     "output_type": "stream",
     "text": [
      "-------------------------------------------\n",
      "Batch: 19\n",
      "-------------------------------------------\n",
      "+--------------------+--------------------+------------+\n",
      "|            features|         probability|  prediction|\n",
      "+--------------------+--------------------+------------+\n",
      "|[2024.0,3.0,13.0,...|[0.93987354252975...|no violation|\n",
      "|[2024.0,3.0,13.0,...|[0.93987354252975...|no violation|\n",
      "|[2024.0,3.0,13.0,...|[0.93987354252975...|no violation|\n",
      "|[2024.0,3.0,13.0,...|[0.93987354252975...|no violation|\n",
      "|[2024.0,3.0,13.0,...|[0.93987354252975...|no violation|\n",
      "|[2024.0,3.0,13.0,...|[0.93987354252975...|no violation|\n",
      "|[2024.0,3.0,13.0,...|[0.93987354252975...|no violation|\n",
      "|[2024.0,3.0,13.0,...|[0.93987354252975...|no violation|\n",
      "|[2024.0,3.0,13.0,...|[0.93987354252975...|no violation|\n",
      "|[2024.0,3.0,13.0,...|[0.93987354252975...|no violation|\n",
      "|[2024.0,3.0,13.0,...|[0.93987354252975...|no violation|\n",
      "|[2024.0,3.0,13.0,...|[0.93987354252975...|no violation|\n",
      "|[2024.0,3.0,13.0,...|[0.93987354252975...|no violation|\n",
      "|[2024.0,3.0,13.0,...|[0.27224640359727...|   violation|\n",
      "|[2024.0,3.0,13.0,...|[0.93987354252975...|no violation|\n",
      "|[2024.0,3.0,13.0,...|[0.93987354252975...|no violation|\n",
      "|[2024.0,3.0,13.0,...|[0.93987354252975...|no violation|\n",
      "|[2024.0,3.0,13.0,...|[0.27224640359727...|   violation|\n",
      "|[2024.0,3.0,13.0,...|[0.93987354252975...|no violation|\n",
      "|[2024.0,3.0,13.0,...|[0.93987354252975...|no violation|\n",
      "+--------------------+--------------------+------------+\n",
      "only showing top 20 rows\n",
      "\n"
     ]
    },
    {
     "name": "stderr",
     "output_type": "stream",
     "text": [
      "\r",
      "[Stage 23:>                                                         (0 + 1) / 1]\r",
      "\r",
      "                                                                                \r"
     ]
    },
    {
     "name": "stdout",
     "output_type": "stream",
     "text": [
      "-------------------------------------------\n",
      "Batch: 20\n",
      "-------------------------------------------\n",
      "+--------------------+--------------------+------------+\n",
      "|            features|         probability|  prediction|\n",
      "+--------------------+--------------------+------------+\n",
      "|[2024.0,3.0,13.0,...|[0.93987354252975...|no violation|\n",
      "|[2024.0,3.0,13.0,...|[0.93987354252975...|no violation|\n",
      "|[2024.0,3.0,13.0,...|[0.93987354252975...|no violation|\n",
      "|[2024.0,3.0,13.0,...|[0.93987354252975...|no violation|\n",
      "|[2024.0,3.0,13.0,...|[0.93987354252975...|no violation|\n",
      "|[2024.0,3.0,13.0,...|[0.93987354252975...|no violation|\n",
      "|[2024.0,3.0,13.0,...|[0.93987354252975...|no violation|\n",
      "|[2024.0,3.0,13.0,...|[0.93987354252975...|no violation|\n",
      "|[2024.0,3.0,13.0,...|[0.93987354252975...|no violation|\n",
      "|[2024.0,3.0,13.0,...|[0.27224640359727...|   violation|\n",
      "|[2024.0,3.0,13.0,...|[0.93987354252975...|no violation|\n",
      "|[2024.0,3.0,13.0,...|[0.93987354252975...|no violation|\n",
      "|[2024.0,3.0,13.0,...|[0.93987354252975...|no violation|\n",
      "|[2024.0,3.0,13.0,...|[0.93987354252975...|no violation|\n",
      "|[2024.0,3.0,13.0,...|[0.93987354252975...|no violation|\n",
      "|[2024.0,3.0,13.0,...|[0.93987354252975...|no violation|\n",
      "|[2024.0,3.0,13.0,...|[0.93987354252975...|no violation|\n",
      "|[2024.0,3.0,13.0,...|[0.93987354252975...|no violation|\n",
      "|[2024.0,3.0,13.0,...|[0.27224640359727...|   violation|\n",
      "|[2024.0,3.0,13.0,...|[0.93987354252975...|no violation|\n",
      "+--------------------+--------------------+------------+\n",
      "only showing top 20 rows\n",
      "\n"
     ]
    },
    {
     "name": "stderr",
     "output_type": "stream",
     "text": [
      "ERROR:root:KeyboardInterrupt while sending command.\n",
      "Traceback (most recent call last):\n",
      "  File \"/opt/spark3/python/lib/py4j-0.10.9.5-src.zip/py4j/java_gateway.py\", line 1038, in send_command\n",
      "    response = connection.send_command(command)\n",
      "  File \"/opt/spark3/python/lib/py4j-0.10.9.5-src.zip/py4j/clientserver.py\", line 511, in send_command\n",
      "    answer = smart_decode(self.stream.readline()[:-1])\n",
      "  File \"/usr/lib/python3.9/socket.py\", line 704, in readinto\n",
      "    return self._sock.recv_into(b)\n",
      "KeyboardInterrupt\n"
     ]
    },
    {
     "ename": "KeyboardInterrupt",
     "evalue": "",
     "output_type": "error",
     "traceback": [
      "\u001b[0;31m---------------------------------------------------------------------------\u001b[0m",
      "\u001b[0;31mKeyboardInterrupt\u001b[0m                         Traceback (most recent call last)",
      "Cell \u001b[0;32mIn[12], line 11\u001b[0m\n\u001b[1;32m      4\u001b[0m \u001b[38;5;66;03m# Write the selected columns to console in real-time\u001b[39;00m\n\u001b[1;32m      5\u001b[0m query \u001b[38;5;241m=\u001b[39m predictionsToDisplay \\\n\u001b[1;32m      6\u001b[0m     \u001b[38;5;241m.\u001b[39mwriteStream \\\n\u001b[1;32m      7\u001b[0m     \u001b[38;5;241m.\u001b[39moutputMode(\u001b[38;5;124m\"\u001b[39m\u001b[38;5;124mappend\u001b[39m\u001b[38;5;124m\"\u001b[39m) \\\n\u001b[1;32m      8\u001b[0m     \u001b[38;5;241m.\u001b[39mformat(\u001b[38;5;124m\"\u001b[39m\u001b[38;5;124mconsole\u001b[39m\u001b[38;5;124m\"\u001b[39m) \\\n\u001b[1;32m      9\u001b[0m     \u001b[38;5;241m.\u001b[39mstart()\n\u001b[0;32m---> 11\u001b[0m \u001b[43mquery\u001b[49m\u001b[38;5;241;43m.\u001b[39;49m\u001b[43mawaitTermination\u001b[49m\u001b[43m(\u001b[49m\u001b[43m)\u001b[49m\n",
      "File \u001b[0;32m/opt/spark3/python/pyspark/sql/streaming.py:101\u001b[0m, in \u001b[0;36mStreamingQuery.awaitTermination\u001b[0;34m(self, timeout)\u001b[0m\n\u001b[1;32m     99\u001b[0m     \u001b[38;5;28;01mreturn\u001b[39;00m \u001b[38;5;28mself\u001b[39m\u001b[38;5;241m.\u001b[39m_jsq\u001b[38;5;241m.\u001b[39mawaitTermination(\u001b[38;5;28mint\u001b[39m(timeout \u001b[38;5;241m*\u001b[39m \u001b[38;5;241m1000\u001b[39m))\n\u001b[1;32m    100\u001b[0m \u001b[38;5;28;01melse\u001b[39;00m:\n\u001b[0;32m--> 101\u001b[0m     \u001b[38;5;28;01mreturn\u001b[39;00m \u001b[38;5;28;43mself\u001b[39;49m\u001b[38;5;241;43m.\u001b[39;49m\u001b[43m_jsq\u001b[49m\u001b[38;5;241;43m.\u001b[39;49m\u001b[43mawaitTermination\u001b[49m\u001b[43m(\u001b[49m\u001b[43m)\u001b[49m\n",
      "File \u001b[0;32m/opt/spark3/python/lib/py4j-0.10.9.5-src.zip/py4j/java_gateway.py:1320\u001b[0m, in \u001b[0;36mJavaMember.__call__\u001b[0;34m(self, *args)\u001b[0m\n\u001b[1;32m   1313\u001b[0m args_command, temp_args \u001b[38;5;241m=\u001b[39m \u001b[38;5;28mself\u001b[39m\u001b[38;5;241m.\u001b[39m_build_args(\u001b[38;5;241m*\u001b[39margs)\n\u001b[1;32m   1315\u001b[0m command \u001b[38;5;241m=\u001b[39m proto\u001b[38;5;241m.\u001b[39mCALL_COMMAND_NAME \u001b[38;5;241m+\u001b[39m\\\n\u001b[1;32m   1316\u001b[0m     \u001b[38;5;28mself\u001b[39m\u001b[38;5;241m.\u001b[39mcommand_header \u001b[38;5;241m+\u001b[39m\\\n\u001b[1;32m   1317\u001b[0m     args_command \u001b[38;5;241m+\u001b[39m\\\n\u001b[1;32m   1318\u001b[0m     proto\u001b[38;5;241m.\u001b[39mEND_COMMAND_PART\n\u001b[0;32m-> 1320\u001b[0m answer \u001b[38;5;241m=\u001b[39m \u001b[38;5;28;43mself\u001b[39;49m\u001b[38;5;241;43m.\u001b[39;49m\u001b[43mgateway_client\u001b[49m\u001b[38;5;241;43m.\u001b[39;49m\u001b[43msend_command\u001b[49m\u001b[43m(\u001b[49m\u001b[43mcommand\u001b[49m\u001b[43m)\u001b[49m\n\u001b[1;32m   1321\u001b[0m return_value \u001b[38;5;241m=\u001b[39m get_return_value(\n\u001b[1;32m   1322\u001b[0m     answer, \u001b[38;5;28mself\u001b[39m\u001b[38;5;241m.\u001b[39mgateway_client, \u001b[38;5;28mself\u001b[39m\u001b[38;5;241m.\u001b[39mtarget_id, \u001b[38;5;28mself\u001b[39m\u001b[38;5;241m.\u001b[39mname)\n\u001b[1;32m   1324\u001b[0m \u001b[38;5;28;01mfor\u001b[39;00m temp_arg \u001b[38;5;129;01min\u001b[39;00m temp_args:\n",
      "File \u001b[0;32m/opt/spark3/python/lib/py4j-0.10.9.5-src.zip/py4j/java_gateway.py:1038\u001b[0m, in \u001b[0;36mGatewayClient.send_command\u001b[0;34m(self, command, retry, binary)\u001b[0m\n\u001b[1;32m   1036\u001b[0m connection \u001b[38;5;241m=\u001b[39m \u001b[38;5;28mself\u001b[39m\u001b[38;5;241m.\u001b[39m_get_connection()\n\u001b[1;32m   1037\u001b[0m \u001b[38;5;28;01mtry\u001b[39;00m:\n\u001b[0;32m-> 1038\u001b[0m     response \u001b[38;5;241m=\u001b[39m \u001b[43mconnection\u001b[49m\u001b[38;5;241;43m.\u001b[39;49m\u001b[43msend_command\u001b[49m\u001b[43m(\u001b[49m\u001b[43mcommand\u001b[49m\u001b[43m)\u001b[49m\n\u001b[1;32m   1039\u001b[0m     \u001b[38;5;28;01mif\u001b[39;00m binary:\n\u001b[1;32m   1040\u001b[0m         \u001b[38;5;28;01mreturn\u001b[39;00m response, \u001b[38;5;28mself\u001b[39m\u001b[38;5;241m.\u001b[39m_create_connection_guard(connection)\n",
      "File \u001b[0;32m/opt/spark3/python/lib/py4j-0.10.9.5-src.zip/py4j/clientserver.py:511\u001b[0m, in \u001b[0;36mClientServerConnection.send_command\u001b[0;34m(self, command)\u001b[0m\n\u001b[1;32m    509\u001b[0m \u001b[38;5;28;01mtry\u001b[39;00m:\n\u001b[1;32m    510\u001b[0m     \u001b[38;5;28;01mwhile\u001b[39;00m \u001b[38;5;28;01mTrue\u001b[39;00m:\n\u001b[0;32m--> 511\u001b[0m         answer \u001b[38;5;241m=\u001b[39m smart_decode(\u001b[38;5;28;43mself\u001b[39;49m\u001b[38;5;241;43m.\u001b[39;49m\u001b[43mstream\u001b[49m\u001b[38;5;241;43m.\u001b[39;49m\u001b[43mreadline\u001b[49m\u001b[43m(\u001b[49m\u001b[43m)\u001b[49m[:\u001b[38;5;241m-\u001b[39m\u001b[38;5;241m1\u001b[39m])\n\u001b[1;32m    512\u001b[0m         logger\u001b[38;5;241m.\u001b[39mdebug(\u001b[38;5;124m\"\u001b[39m\u001b[38;5;124mAnswer received: \u001b[39m\u001b[38;5;132;01m{0}\u001b[39;00m\u001b[38;5;124m\"\u001b[39m\u001b[38;5;241m.\u001b[39mformat(answer))\n\u001b[1;32m    513\u001b[0m         \u001b[38;5;66;03m# Happens when a the other end is dead. There might be an empty\u001b[39;00m\n\u001b[1;32m    514\u001b[0m         \u001b[38;5;66;03m# answer before the socket raises an error.\u001b[39;00m\n",
      "File \u001b[0;32m/usr/lib/python3.9/socket.py:704\u001b[0m, in \u001b[0;36mSocketIO.readinto\u001b[0;34m(self, b)\u001b[0m\n\u001b[1;32m    702\u001b[0m \u001b[38;5;28;01mwhile\u001b[39;00m \u001b[38;5;28;01mTrue\u001b[39;00m:\n\u001b[1;32m    703\u001b[0m     \u001b[38;5;28;01mtry\u001b[39;00m:\n\u001b[0;32m--> 704\u001b[0m         \u001b[38;5;28;01mreturn\u001b[39;00m \u001b[38;5;28;43mself\u001b[39;49m\u001b[38;5;241;43m.\u001b[39;49m\u001b[43m_sock\u001b[49m\u001b[38;5;241;43m.\u001b[39;49m\u001b[43mrecv_into\u001b[49m\u001b[43m(\u001b[49m\u001b[43mb\u001b[49m\u001b[43m)\u001b[49m\n\u001b[1;32m    705\u001b[0m     \u001b[38;5;28;01mexcept\u001b[39;00m timeout:\n\u001b[1;32m    706\u001b[0m         \u001b[38;5;28mself\u001b[39m\u001b[38;5;241m.\u001b[39m_timeout_occurred \u001b[38;5;241m=\u001b[39m \u001b[38;5;28;01mTrue\u001b[39;00m\n",
      "\u001b[0;31mKeyboardInterrupt\u001b[0m: "
     ]
    }
   ],
   "source": [
    "# Select only \"features\", \"probability\", and \"prediction\" columns for display\n",
    "predictionsToDisplay = predictions_df.select(\"features\", \"probability\", \"prediction\")\n",
    "\n",
    "# Write the selected columns to console in real-time\n",
    "query = predictionsToDisplay \\\n",
    "    .writeStream \\\n",
    "    .outputMode(\"append\") \\\n",
    "    .format(\"console\") \\\n",
    "    .start()\n",
    "\n",
    "query.awaitTermination()\n"
   ]
  },
  {
   "cell_type": "code",
   "execution_count": null,
   "id": "0e3dfb5c",
   "metadata": {},
   "outputs": [],
   "source": [
    "# query = topDriverViolations \\\n",
    "#     .writeStream \\\n",
    "#     .outputMode(\"append\") \\\n",
    "#     .format(\"console\") \\\n",
    "#     .start()\n",
    "\n",
    "# query.awaitTermination()"
   ]
  },
  {
   "cell_type": "code",
   "execution_count": null,
   "id": "57ee3d89",
   "metadata": {},
   "outputs": [],
   "source": [
    "# # Stop Spark session\n",
    "# spark.stop()"
   ]
  },
  {
   "cell_type": "code",
   "execution_count": null,
   "id": "63881bab",
   "metadata": {},
   "outputs": [],
   "source": []
  },
  {
   "cell_type": "code",
   "execution_count": null,
   "id": "4fb04be6",
   "metadata": {},
   "outputs": [],
   "source": []
  },
  {
   "cell_type": "code",
   "execution_count": null,
   "id": "25fb5232",
   "metadata": {},
   "outputs": [],
   "source": [
    "predictions_df.printSchema()"
   ]
  }
 ],
 "metadata": {
  "kernelspec": {
   "display_name": "Python 3 (ipykernel)",
   "language": "python",
   "name": "python3"
  },
  "language_info": {
   "codemirror_mode": {
    "name": "ipython",
    "version": 3
   },
   "file_extension": ".py",
   "mimetype": "text/x-python",
   "name": "python",
   "nbconvert_exporter": "python",
   "pygments_lexer": "ipython3",
   "version": "3.9.2"
  }
 },
 "nbformat": 4,
 "nbformat_minor": 5
}
